{
 "cells": [
  {
   "cell_type": "code",
   "execution_count": 25,
   "id": "a865a1d3-33c7-4b08-afa2-4557647e2e0e",
   "metadata": {},
   "outputs": [],
   "source": [
    "from sklearn.datasets import load_diabetes\n",
    "from sklearn.linear_model import LinearRegression,Lasso,Ridge,ElasticNet\n",
    "from sklearn.model_selection import train_test_split\n",
    "from sklearn.metrics import  r2_score"
   ]
  },
  {
   "cell_type": "code",
   "execution_count": 27,
   "id": "66ba8715-8958-43c6-8d69-b00192294013",
   "metadata": {},
   "outputs": [],
   "source": [
    "x,y = load_diabetes(return_X_y=True)"
   ]
  },
  {
   "cell_type": "code",
   "execution_count": 29,
   "id": "71a806f2-70f0-4bf8-bd51-f978a695de9a",
   "metadata": {},
   "outputs": [],
   "source": [
    "x_train,x_test,y_train,y_test = train_test_split(x,y,test_size=0.2,random_state=2)"
   ]
  },
  {
   "cell_type": "markdown",
   "id": "3f13bb7c-6a64-4969-bf7b-5d16bfff6311",
   "metadata": {},
   "source": [
    "# Liner Regression|"
   ]
  },
  {
   "cell_type": "code",
   "execution_count": 37,
   "id": "42fc6dbf-0018-4457-9233-948c8f637a55",
   "metadata": {},
   "outputs": [
    {
     "data": {
      "text/plain": [
       "0.439933866156897"
      ]
     },
     "execution_count": 37,
     "metadata": {},
     "output_type": "execute_result"
    }
   ],
   "source": [
    "\n",
    "reg = LinearRegression()\n",
    "reg.fit(x_train ,y_train)\n",
    "y_pred = reg.predict(x_test)\n",
    "r2_score(y_test,y_pred)\n"
   ]
  },
  {
   "cell_type": "markdown",
   "id": "06942e70-ca89-49d5-9ac9-612b1e63bed0",
   "metadata": {},
   "source": [
    "# Ridge Regression"
   ]
  },
  {
   "cell_type": "code",
   "execution_count": 41,
   "id": "d57f7496-1b21-45b5-af12-89e7abc82718",
   "metadata": {},
   "outputs": [
    {
     "data": {
      "text/plain": [
       "0.45199494197195456"
      ]
     },
     "execution_count": 41,
     "metadata": {},
     "output_type": "execute_result"
    }
   ],
   "source": [
    "\n",
    "reg = Ridge(alpha=0.1)\n",
    "reg.fit(x_train,y_train)\n",
    "y_pred = reg.predict(x_test)\n",
    "r2_score(y_test,y_pred)"
   ]
  },
  {
   "cell_type": "markdown",
   "id": "df82ffa0-7923-4907-8abf-b8b1fe7fe00a",
   "metadata": {},
   "source": [
    "# Lasso Regression"
   ]
  },
  {
   "cell_type": "code",
   "execution_count": 85,
   "id": "690dc153-15da-42a7-8b8d-15c00b5464bc",
   "metadata": {},
   "outputs": [
    {
     "data": {
      "text/plain": [
       "0.44111855963110624"
      ]
     },
     "execution_count": 85,
     "metadata": {},
     "output_type": "execute_result"
    }
   ],
   "source": [
    "\n",
    "reg = Lasso(alpha=0.01)\n",
    "reg.fit(x_train,y_train)\n",
    "y_pred = reg.predict(x_test)\n",
    "r2_score(y_test,y_pred)"
   ]
  },
  {
   "cell_type": "markdown",
   "id": "46ffb47f-0d65-4a00-9c94-a067dc944336",
   "metadata": {},
   "source": [
    "# Elastic Regression "
   ]
  },
  {
   "cell_type": "code",
   "execution_count": 110,
   "id": "4f034111-b3bb-419e-8580-f88750519335",
   "metadata": {},
   "outputs": [
    {
     "data": {
      "text/plain": [
       "0.44722708783298726"
      ]
     },
     "execution_count": 110,
     "metadata": {},
     "output_type": "execute_result"
    }
   ],
   "source": [
    "\n",
    "reg = ElasticNet(alpha=0.001,l1_ratio=0.9)\n",
    "reg.fit(x_train,y_train)\n",
    "y_pred = reg.predict(x_test)\n",
    "r2_score(y_test,y_pred)"
   ]
  },
  {
   "cell_type": "markdown",
   "id": "5d634064-c89d-4b34-86d3-f33d06046539",
   "metadata": {},
   "source": [
    "# Grid Search"
   ]
  },
  {
   "cell_type": "code",
   "execution_count": 88,
   "id": "c2d144b7-03a9-4b93-ad0d-38392877167f",
   "metadata": {},
   "outputs": [
    {
     "name": "stdout",
     "output_type": "stream",
     "text": [
      "Best Parameters: {'alpha': 0.001, 'l1_ratio': 0.9}\n",
      "Best R² Score: 0.4894569579836883\n"
     ]
    }
   ],
   "source": [
    "from sklearn.model_selection import GridSearchCV\n",
    "from sklearn.linear_model import ElasticNet\n",
    "from sklearn.metrics import make_scorer, r2_score\n",
    "\n",
    "# Define the model\n",
    "reg = ElasticNet()\n",
    "\n",
    "# Set the parameter grid\n",
    "param_grid = {\n",
    "    'alpha': [0.001, 0.01, 0.1, 1, 10],\n",
    "    'l1_ratio': [0.1, 0.3, 0.5, 0.7, 0.9]\n",
    "}\n",
    "\n",
    "# Set up the grid search\n",
    "grid_search = GridSearchCV(\n",
    "    reg,\n",
    "    param_grid,\n",
    "    cv=5, \n",
    "    scoring=make_scorer(r2_score), \n",
    "    n_jobs=-1\n",
    ")\n",
    "\n",
    "# Fit to the data\n",
    "grid_search.fit(x_train, y_train)\n",
    "\n",
    "# Get the best parameters and score\n",
    "best_params = grid_search.best_params_\n",
    "best_score = grid_search.best_score_\n",
    "\n",
    "print(\"Best Parameters:\", best_params)\n",
    "print(\"Best R² Score:\", best_score)\n"
   ]
  },
  {
   "cell_type": "markdown",
   "id": "6f14037b-837b-4a02-a279-e94e12f3f9c7",
   "metadata": {},
   "source": [
    "# Random Search"
   ]
  },
  {
   "cell_type": "code",
   "execution_count": 101,
   "id": "4ca5c114-2959-444c-bf75-8f80862a6a45",
   "metadata": {},
   "outputs": [
    {
     "name": "stdout",
     "output_type": "stream",
     "text": [
      "Best Parameters (Random Search): {'alpha': 0.07387722715059619, 'l1_ratio': 0.7256952477542252}\n",
      "Best R² Score (Random Search): 0.18930222812549846\n"
     ]
    }
   ],
   "source": [
    "from sklearn.model_selection import RandomizedSearchCV\n",
    "from scipy.stats import uniform\n",
    "\n",
    "param_dist = {\n",
    "    'alpha': uniform(0.001, 10),     # Random values between 0.001 and 10\n",
    "    'l1_ratio': uniform(0.1, 0.9)    # Random values between 0.1 and 0.9\n",
    "}\n",
    "\n",
    "random_search = RandomizedSearchCV(\n",
    "    reg,\n",
    "    param_distributions=param_dist,\n",
    "    n_iter=100,  \n",
    "    cv=5,\n",
    "    scoring=make_scorer(r2_score),\n",
    "    n_jobs=-1\n",
    ")\n",
    "\n",
    "random_search.fit(x_train, y_train)\n",
    "\n",
    "best_params_random = random_search.best_params_\n",
    "best_score_random = random_search.best_score_\n",
    "\n",
    "print(\"Best Parameters (Random Search):\", best_params_random)\n",
    "print(\"Best R² Score (Random Search):\", best_score_random)\n"
   ]
  }
 ],
 "metadata": {
  "kernelspec": {
   "display_name": "anaconda-panel-2023.05-py310",
   "language": "python",
   "name": "conda-env-anaconda-panel-2023.05-py310-py"
  },
  "language_info": {
   "codemirror_mode": {
    "name": "ipython",
    "version": 3
   },
   "file_extension": ".py",
   "mimetype": "text/x-python",
   "name": "python",
   "nbconvert_exporter": "python",
   "pygments_lexer": "ipython3",
   "version": "3.11.5"
  }
 },
 "nbformat": 4,
 "nbformat_minor": 5
}
