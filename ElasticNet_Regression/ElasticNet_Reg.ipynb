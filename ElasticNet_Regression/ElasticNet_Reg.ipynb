{
 "cells": [
  {
   "cell_type": "code",
   "execution_count": 1,
   "id": "858c9305-1195-470c-8d32-d4a5913dcfe7",
   "metadata": {},
   "outputs": [],
   "source": [
    "from sklearn.datasets import load_diabetes\n",
    "from sklearn.linear_model import LinearRegression,Lasso,Ridge,ElasticNet\n",
    "from sklearn.model_selection import train_test_split\n",
    "from sklearn.metrics import  r2_score"
   ]
  },
  {
   "cell_type": "code",
   "execution_count": 4,
   "id": "26b7f189-5421-484c-a5ae-7c04473ac0d9",
   "metadata": {},
   "outputs": [],
   "source": [
    "x,y = load_diabetes(return_X_y=True)\n"
   ]
  },
  {
   "cell_type": "code",
   "execution_count": 7,
   "id": "9912fe93-ff14-4f67-92ef-4f5bbb34d361",
   "metadata": {},
   "outputs": [],
   "source": [
    "x_train,x_test,y_train,y_test = train_test_split(x,y,test_size=0.2,random_state=2)\n"
   ]
  },
  {
   "cell_type": "markdown",
   "id": "0f986cae-4ee7-41ff-9351-99c7d376c3d5",
   "metadata": {},
   "source": [
    "# Linear Regression"
   ]
  },
  {
   "cell_type": "code",
   "execution_count": 11,
   "id": "dcd0f7eb-5131-4e3a-8937-ae07ccfe3883",
   "metadata": {},
   "outputs": [
    {
     "data": {
      "text/plain": [
       "0.439933866156897"
      ]
     },
     "execution_count": 11,
     "metadata": {},
     "output_type": "execute_result"
    }
   ],
   "source": [
    "\n",
    "reg = LinearRegression()\n",
    "reg.fit(x_train ,y_train)\n",
    "y_pred = reg.predict(x_test)\n",
    "r2_score(y_test,y_pred)\n"
   ]
  },
  {
   "cell_type": "markdown",
   "id": "6cdf1a4d-0a55-4015-acad-5e30cdda3389",
   "metadata": {},
   "source": [
    "# Ridge Reg"
   ]
  },
  {
   "cell_type": "code",
   "execution_count": 15,
   "id": "b2652dd9-1d74-44d0-b0ed-1e816327d803",
   "metadata": {},
   "outputs": [
    {
     "data": {
      "text/plain": [
       "0.45199494197195456"
      ]
     },
     "execution_count": 15,
     "metadata": {},
     "output_type": "execute_result"
    }
   ],
   "source": [
    "\n",
    "reg = Ridge(alpha=0.1)\n",
    "reg.fit(x_train,y_train)\n",
    "y_pred = reg.predict(x_test)\n",
    "r2_score(y_test,y_pred)"
   ]
  },
  {
   "cell_type": "markdown",
   "id": "3b5998a4-412c-47aa-af64-095a5c77c5a0",
   "metadata": {},
   "source": [
    "# Lasso Reg"
   ]
  },
  {
   "cell_type": "code",
   "execution_count": 19,
   "id": "b6937e28-4b01-4015-9149-91e2cc538114",
   "metadata": {},
   "outputs": [
    {
     "data": {
      "text/plain": [
       "0.44111855963110624"
      ]
     },
     "execution_count": 19,
     "metadata": {},
     "output_type": "execute_result"
    }
   ],
   "source": [
    "\n",
    "reg = Lasso(alpha=0.01)\n",
    "reg.fit(x_train,y_train)\n",
    "y_pred = reg.predict(x_test)\n",
    "r2_score(y_test,y_pred)"
   ]
  },
  {
   "cell_type": "markdown",
   "id": "d4a13fe8-81e4-45d2-a4c0-acd5ac27ee95",
   "metadata": {},
   "source": [
    "# ElasticNet Reg"
   ]
  },
  {
   "cell_type": "code",
   "execution_count": 25,
   "id": "db8ee80d-09cc-4fec-a611-3bc1ed10d219",
   "metadata": {},
   "outputs": [
    {
     "data": {
      "text/plain": [
       "0.44722708783298726"
      ]
     },
     "execution_count": 25,
     "metadata": {},
     "output_type": "execute_result"
    }
   ],
   "source": [
    "\n",
    "reg = ElasticNet(alpha=0.001,l1_ratio=0.9)\n",
    "reg.fit(x_train,y_train)\n",
    "y_pred = reg.predict(x_test)\n",
    "r2_score(y_test,y_pred)"
   ]
  },
  {
   "cell_type": "markdown",
   "id": "f234e410-89ed-4c53-9c1f-f21d3ce70e34",
   "metadata": {},
   "source": [
    "# GridSearch CV"
   ]
  },
  {
   "cell_type": "code",
   "execution_count": 29,
   "id": "920275f2-65cb-4c27-baae-fcdcf70c6224",
   "metadata": {},
   "outputs": [
    {
     "name": "stdout",
     "output_type": "stream",
     "text": [
      "Best Parameters: {'alpha': 0.001, 'l1_ratio': 0.9}\n",
      "Best R² Score: 0.4894569579836883\n"
     ]
    }
   ],
   "source": [
    "from sklearn.model_selection import GridSearchCV\n",
    "from sklearn.linear_model import ElasticNet\n",
    "from sklearn.metrics import make_scorer, r2_score\n",
    "\n",
    "# Define the model\n",
    "reg = ElasticNet()\n",
    "\n",
    "# Set the parameter grid\n",
    "param_grid = {\n",
    "    'alpha': [0.001, 0.01, 0.1, 1, 10],\n",
    "    'l1_ratio': [0.1, 0.3, 0.5, 0.7, 0.9]\n",
    "}\n",
    "\n",
    "# Set up the grid search\n",
    "grid_search = GridSearchCV(\n",
    "    reg,\n",
    "    param_grid,\n",
    "    cv=5, \n",
    "    scoring=make_scorer(r2_score), \n",
    "    n_jobs=-1\n",
    ")\n",
    "\n",
    "# Fit to the data\n",
    "grid_search.fit(x_train, y_train)\n",
    "\n",
    "# Get the best parameters and score\n",
    "best_params = grid_search.best_params_\n",
    "best_score = grid_search.best_score_\n",
    "\n",
    "print(\"Best Parameters:\", best_params)\n",
    "print(\"Best R² Score:\", best_score)\n"
   ]
  },
  {
   "cell_type": "markdown",
   "id": "701573d5-76ec-4843-95af-10a2a2407555",
   "metadata": {},
   "source": [
    "# Random Search CV"
   ]
  },
  {
   "cell_type": "code",
   "execution_count": 33,
   "id": "3abc1f79-5ed9-4dca-82cf-761d56b854b4",
   "metadata": {},
   "outputs": [
    {
     "name": "stdout",
     "output_type": "stream",
     "text": [
      "Best Parameters (Random Search): {'alpha': 0.4064005157804308, 'l1_ratio': 0.9727566130028389}\n",
      "Best R² Score (Random Search): 0.22210983156362324\n"
     ]
    }
   ],
   "source": [
    "from sklearn.model_selection import RandomizedSearchCV\n",
    "from scipy.stats import uniform\n",
    "\n",
    "param_dist = {\n",
    "    'alpha': uniform(0.001, 10),     # Random values between 0.001 and 10\n",
    "    'l1_ratio': uniform(0.1, 0.9)    # Random values between 0.1 and 0.9\n",
    "}\n",
    "\n",
    "random_search = RandomizedSearchCV(\n",
    "    reg,\n",
    "    param_distributions=param_dist,\n",
    "    n_iter=100,  \n",
    "    cv=5,\n",
    "    scoring=make_scorer(r2_score),\n",
    "    n_jobs=-1\n",
    ")\n",
    "\n",
    "random_search.fit(x_train, y_train)\n",
    "\n",
    "best_params_random = random_search.best_params_\n",
    "best_score_random = random_search.best_score_\n",
    "\n",
    "print(\"Best Parameters (Random Search):\", best_params_random)\n",
    "print(\"Best R² Score (Random Search):\", best_score_random)\n"
   ]
  },
  {
   "cell_type": "code",
   "execution_count": null,
   "id": "2c669a26-71fe-4c67-9edf-2dce08d914c3",
   "metadata": {},
   "outputs": [],
   "source": []
  }
 ],
 "metadata": {
  "kernelspec": {
   "display_name": "anaconda-panel-2023.05-py310",
   "language": "python",
   "name": "conda-env-anaconda-panel-2023.05-py310-py"
  },
  "language_info": {
   "codemirror_mode": {
    "name": "ipython",
    "version": 3
   },
   "file_extension": ".py",
   "mimetype": "text/x-python",
   "name": "python",
   "nbconvert_exporter": "python",
   "pygments_lexer": "ipython3",
   "version": "3.11.5"
  }
 },
 "nbformat": 4,
 "nbformat_minor": 5
}
